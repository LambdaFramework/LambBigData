{
 "cells": [
  {
   "cell_type": "markdown",
   "metadata": {},
   "source": [
    "# Testing Uproot\n",
    "\n",
    "uproot pack with xrootd read capability"
   ]
  },
  {
   "cell_type": "code",
   "execution_count": 2,
   "metadata": {},
   "outputs": [
    {
     "name": "stdout",
     "output_type": "stream",
     "text": [
      "Spark version:  2.4.3\n",
      "SparkSQL sesssion created\n"
     ]
    }
   ],
   "source": [
    "import pyspark.sql\n",
    "\n",
    "sqlContext = pyspark.sql.SparkSession.builder \\\n",
    "    .master('spark://nodo1.novalocal:7077') \\\n",
    "    .appName('Partition-test-uproot') \\\n",
    "    .config('spark.jars.packages', \\\n",
    "            'org.diana-hep:spark-root_2.11:0.1.16,org.diana-hep:histogrammar-sparksql_2.11:1.0.4') \\\n",
    "    .config('spark.driver.extraClassPath','/opt/hadoop/share/hadoop/common/lib/EOSfs.jar') \\\n",
    "    .config('spark.driver.extraClassPath','/home/shoh/hadoop-xrootd/hadoop-xrootd-1.0.4-jar-with-dependencies.jar') \\\n",
    "    .config('spark.executor.extraClassPath','/opt/hadoop/share/hadoop/common/lib/EOSfs.jar') \\\n",
    "    .config('spark.serializer','org.apache.spark.serializer.KryoSerializer') \\\n",
    "    .config('spark.sql.execution.arrow.enabled', \"true\") \\\n",
    "    .config('spark.eventLog.enabled','true') \\\n",
    "    .config('spark.eventLog.dir','/home/shoh/Evt_logger') \\\n",
    "    .config('spark.ui.enabled','true') \\\n",
    "    .config('spark.cores.max', '10') \\\n",
    "    .config('spark.executor.instances', '5') \\\n",
    "    .config('spark.executor.cores','2') \\\n",
    "    .config('spark.executor.memory','2g') \\\n",
    "    .getOrCreate()\n",
    "    \n",
    "print 'Spark version: ',sqlContext.version\n",
    "print 'SparkSQL sesssion created'"
   ]
  },
  {
   "cell_type": "markdown",
   "metadata": {},
   "source": [
    "## Uproot"
   ]
  },
  {
   "cell_type": "code",
   "execution_count": null,
   "metadata": {},
   "outputs": [],
   "source": [
    "import uproot\n",
    "import pandas as pd\n",
    "#dsPath=\"root://eospublic.cern.ch//eos/opstest/cmspd-bigdata/DYJetsToLL_M-50_TuneCUETP8M1_13TeV-madgraphMLM-pythia8_ext1-v2.root\" \n",
    "#dsPath=\"root://eosuser.cern.ch//eos/cms/store/group/phys_higgs/cmshww/amassiro/HWWNano/Summer16_102X_nAODv4_Full2016v5/MCl1loose2016v5/nanoLatino_ZZTo4L__part6.root\"\n",
    "\n",
    "#events = uproot.open(dsPath)[\"Events\"]\n",
    "files = {}\n",
    "param = {}\n",
    "files['VV'] = uproot.open('data/ntuple_4mu_VV.root')['HZZ4LeptonsAnalysisReduced']\n",
    "files['bkg'] = uproot.open('data/ntuple_4mu_bkg.root')['HZZ4LeptonsAnalysisReduced']\n",
    "param['VV'] = files['VV'].arrays()\n",
    "param['bkg'] = files['bkg'].arrays()\n",
    "\n",
    "df = {}\n",
    "VARS = ['f_mass4l', 'f_massjj']\n",
    "df['bkg'] = pd.DataFrame(param['bkg'],columns=VARS)\n",
    "df['VV'] = pd.DataFrame(param['VV'],columns=VARS)"
   ]
  },
  {
   "cell_type": "code",
   "execution_count": null,
   "metadata": {},
   "outputs": [],
   "source": [
    "sqlDF = {}\n",
    "\n",
    "sqlDF['bkg'] = sqlContext.createDataFrame(df['bkg'])\n",
    "sqlDF['VV'] = sqlContext.createDataFrame(df['VV'])"
   ]
  },
  {
   "cell_type": "code",
   "execution_count": null,
   "metadata": {},
   "outputs": [],
   "source": [
    "sqlDF['bkg'].show()"
   ]
  },
  {
   "cell_type": "markdown",
   "metadata": {},
   "source": [
    "### Using Uproot to partition\n"
   ]
  },
  {
   "cell_type": "code",
   "execution_count": null,
   "metadata": {},
   "outputs": [],
   "source": [
    "sqlDF['bkg'].rdd.getNumPartitions()"
   ]
  },
  {
   "cell_type": "code",
   "execution_count": null,
   "metadata": {},
   "outputs": [],
   "source": [
    "file.keys()"
   ]
  },
  {
   "cell_type": "code",
   "execution_count": null,
   "metadata": {},
   "outputs": [],
   "source": [
    "dfnew.count()"
   ]
  },
  {
   "cell_type": "markdown",
   "metadata": {},
   "source": [
    "## laurelin:0.3.0"
   ]
  },
  {
   "cell_type": "code",
   "execution_count": null,
   "metadata": {},
   "outputs": [],
   "source": [
    "df1 = sqlContext.read.format('root') \\\n",
    "                .option(\"tree\", \"Events\") \\\n",
    "                .load(dsPath)\n",
    "df1.rdd.getNumPartitions()"
   ]
  },
  {
   "cell_type": "code",
   "execution_count": null,
   "metadata": {},
   "outputs": [],
   "source": []
  }
 ],
 "metadata": {
  "kernelspec": {
   "display_name": "Python 2",
   "language": "python",
   "name": "python2"
  },
  "language_info": {
   "codemirror_mode": {
    "name": "ipython",
    "version": 2
   },
   "file_extension": ".py",
   "mimetype": "text/x-python",
   "name": "python",
   "nbconvert_exporter": "python",
   "pygments_lexer": "ipython2",
   "version": "2.7.5"
  }
 },
 "nbformat": 4,
 "nbformat_minor": 2
}
