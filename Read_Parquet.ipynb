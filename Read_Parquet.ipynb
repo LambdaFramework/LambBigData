{
 "cells": [
  {
   "cell_type": "code",
   "execution_count": 1,
   "metadata": {
    "ExecuteTime": {
     "end_time": "2018-11-28T23:13:39.146793Z",
     "start_time": "2018-11-28T23:13:37.651753Z"
    }
   },
   "outputs": [],
   "source": [
    "import pandas as pd"
   ]
  },
  {
   "cell_type": "code",
   "execution_count": 2,
   "metadata": {
    "ExecuteTime": {
     "end_time": "2018-11-28T23:13:39.162459Z",
     "start_time": "2018-11-28T23:13:39.153027Z"
    }
   },
   "outputs": [],
   "source": [
    "ENGINE='pyarrow' #or fastparquet\n",
    "#PATH='/Users/shoh/Projects/CMS/PhD/Analysis/SSL/LambdaBigData/NanoaodParquet'\n",
    "PATH='/Users/shoh/Projects/CMS/PhD/Analysis/SSL/LambdaBigData/Prodv1'\n",
    "#NOT WORKING\n",
    "#df=pd.read_parquet('%s/TTJets_SingleLeptFromTbar_TuneCUETP8M1_13TeV-madgraphMLM-pythia8_ext1-v1.parquet' %PATH, engine='%s' %ENGINE)"
   ]
  },
  {
   "cell_type": "code",
   "execution_count": 3,
   "metadata": {
    "ExecuteTime": {
     "end_time": "2018-11-28T23:13:49.121053Z",
     "start_time": "2018-11-28T23:13:39.170019Z"
    }
   },
   "outputs": [],
   "source": [
    "import pyarrow.parquet as pq\n",
    "#from fastparquet import ParquetFile\n",
    "table = pq.read_table('%s/TTJets_SingleLeptFromTbar_TuneCUETP8M1_13TeV-madgraphMLM-pythia8_ext1-v1.parquet' %PATH)\n",
    "#table = ParquetFile('%s/TTJets_SingleLeptFromTbar_TuneCUETP8M1_13TeV-madgraphMLM-pythia8_ext1-v1.parquet' %PATH)"
   ]
  },
  {
   "cell_type": "code",
   "execution_count": null,
   "metadata": {
    "ExecuteTime": {
     "start_time": "2018-11-28T23:13:37.639Z"
    }
   },
   "outputs": [],
   "source": [
    "table.to_pandas()"
   ]
  },
  {
   "cell_type": "code",
   "execution_count": null,
   "metadata": {
    "ExecuteTime": {
     "start_time": "2018-11-28T23:13:37.645Z"
    }
   },
   "outputs": [],
   "source": [
    "#Read selected column\n",
    "lists=[ \n",
    "    'Electron_genPartIdx',\n",
    "    'Electron_genPartFlav',\n",
    "    'GenJetAK8_partonFlavour',\n",
    "    'GenJetAK8_hadronFlavour',\n",
    "    'GenJet_partonFlavour',\n",
    "    'GenJet_hadronFlavour',\n",
    "    'Jet_genJetIdx',]\n",
    "exp=pq.read_pandas('%s/TTJets_SingleLeptFromTbar_TuneCUETP8M1_13TeV-madgraphMLM-pythia8_ext1-v1.parquet' %PATH, columns=lists).to_pandas()\n",
    "\n"
   ]
  },
  {
   "cell_type": "code",
   "execution_count": null,
   "metadata": {
    "ExecuteTime": {
     "start_time": "2018-11-28T23:13:37.651Z"
    }
   },
   "outputs": [],
   "source": [
    "exp['Electron_cutBased']"
   ]
  },
  {
   "cell_type": "code",
   "execution_count": null,
   "metadata": {
    "ExecuteTime": {
     "end_time": "2018-11-28T22:44:14.738196Z",
     "start_time": "2018-11-28T22:44:14.397908Z"
    }
   },
   "outputs": [],
   "source": []
  },
  {
   "cell_type": "code",
   "execution_count": null,
   "metadata": {},
   "outputs": [],
   "source": []
  }
 ],
 "metadata": {
  "kernelspec": {
   "display_name": "Python 2",
   "language": "python",
   "name": "python2"
  },
  "language_info": {
   "codemirror_mode": {
    "name": "ipython",
    "version": 2
   },
   "file_extension": ".py",
   "mimetype": "text/x-python",
   "name": "python",
   "nbconvert_exporter": "python",
   "pygments_lexer": "ipython2",
   "version": "2.7.10"
  },
  "varInspector": {
   "cols": {
    "lenName": 16,
    "lenType": 16,
    "lenVar": 40
   },
   "kernels_config": {
    "python": {
     "delete_cmd_postfix": "",
     "delete_cmd_prefix": "del ",
     "library": "var_list.py",
     "varRefreshCmd": "print(var_dic_list())"
    },
    "r": {
     "delete_cmd_postfix": ") ",
     "delete_cmd_prefix": "rm(",
     "library": "var_list.r",
     "varRefreshCmd": "cat(var_dic_list()) "
    }
   },
   "types_to_exclude": [
    "module",
    "function",
    "builtin_function_or_method",
    "instance",
    "_Feature"
   ],
   "window_display": false
  }
 },
 "nbformat": 4,
 "nbformat_minor": 2
}
